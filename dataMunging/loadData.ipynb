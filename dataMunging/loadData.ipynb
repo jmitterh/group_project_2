{
 "cells": [
  {
   "cell_type": "markdown",
   "metadata": {},
   "source": [
    "# Loading data into Database\n",
    "* Reference the DB_schema to create the schema in postgres\n",
    "* (make sure not add constraints to your schema before loading your data)\n",
    "#### Imports"
   ]
  },
  {
   "cell_type": "code",
   "execution_count": 1,
   "metadata": {},
   "outputs": [],
   "source": [
    "import pandas as pd\n",
    "from sqlalchemy import create_engine\n",
    "from db_setup import pg_user, pg_password, db_name"
   ]
  },
  {
   "cell_type": "markdown",
   "metadata": {},
   "source": [
    "#### Connecting to the database"
   ]
  },
  {
   "cell_type": "code",
   "execution_count": 2,
   "metadata": {},
   "outputs": [],
   "source": [
    "connection_string = f\"{pg_user}:{pg_password}@localhost:5432/{db_name}\"\n",
    "engine = create_engine(f'postgresql://{connection_string}')"
   ]
  },
  {
   "cell_type": "markdown",
   "metadata": {},
   "source": [
    "#### Checking table schema"
   ]
  },
  {
   "cell_type": "code",
   "execution_count": 3,
   "metadata": {},
   "outputs": [
    {
     "data": {
      "text/plain": [
       "['nutrientvalue',\n",
       " 'portionsandweights',\n",
       " 'category',\n",
       " 'descriptioncategory',\n",
       " 'dailyvalue']"
      ]
     },
     "execution_count": 3,
     "metadata": {},
     "output_type": "execute_result"
    }
   ],
   "source": [
    "engine.table_names()"
   ]
  },
  {
   "cell_type": "markdown",
   "metadata": {},
   "source": [
    "#### Adding data to schema"
   ]
  },
  {
   "cell_type": "code",
   "execution_count": 4,
   "metadata": {},
   "outputs": [],
   "source": [
    "c = '../data/formatted_data/Category.csv'\n",
    "dv = '../data/formatted_data/DailyValue.csv'\n",
    "dc = '../data/formatted_data/DescriptionCategory.csv'\n",
    "nv = '../data/formatted_data/NutrientValues.csv'\n",
    "pw = '../data/formatted_data/PortionsAndWeights.csv'\n",
    "\n",
    "category = pd.read_csv(c, index_col=0)\n",
    "dailyvalue = pd.read_csv(dv, index_col=0)\n",
    "descriptioncategory = pd.read_csv(dc, index_col=0)\n",
    "nutrientvalue = pd.read_csv(nv, index_col=0)\n",
    "portionsandweights = pd.read_csv(pw, index_col=0)"
   ]
  },
  {
   "cell_type": "code",
   "execution_count": 5,
   "metadata": {},
   "outputs": [],
   "source": [
    "category.to_sql(name='category', con=engine, if_exists='append', index=True)\n",
    "dailyvalue.to_sql(name='dailyvalue', con=engine, if_exists='append', index=True)\n",
    "descriptioncategory.to_sql(name='descriptioncategory', con=engine, if_exists='append', index=True)\n",
    "nutrientvalue.to_sql(name='nutrientvalue', con=engine, if_exists='append', index=True)\n",
    "portionsandweights.to_sql(name='portionsandweights', con=engine, if_exists='append', index=True)"
   ]
  },
  {
   "cell_type": "markdown",
   "metadata": {},
   "source": [
    "### FINISHED! Check Your database to see if the data is there. Make sure to add PK and FK constraints after data is in database."
   ]
  },
  {
   "cell_type": "code",
   "execution_count": null,
   "metadata": {},
   "outputs": [],
   "source": []
  }
 ],
 "metadata": {
  "kernelspec": {
   "display_name": "Python 3",
   "language": "python",
   "name": "python3"
  },
  "language_info": {
   "codemirror_mode": {
    "name": "ipython",
    "version": 3
   },
   "file_extension": ".py",
   "mimetype": "text/x-python",
   "name": "python",
   "nbconvert_exporter": "python",
   "pygments_lexer": "ipython3",
   "version": "3.7.3"
  }
 },
 "nbformat": 4,
 "nbformat_minor": 4
}
